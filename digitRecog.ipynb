{
 "cells": [
  {
   "cell_type": "code",
   "execution_count": 1,
   "metadata": {},
   "outputs": [],
   "source": [
    "from keras.models import Sequential\n",
    "from keras.layers import Conv2D\n",
    "from keras.layers import MaxPooling2D\n",
    "from keras.layers import Flatten\n",
    "from keras.layers import Dense"
   ]
  },
  {
   "cell_type": "code",
   "execution_count": 2,
   "metadata": {},
   "outputs": [
    {
     "name": "stdout",
     "output_type": "stream",
     "text": [
      "Connecting to wss://anvil.works/uplink\n",
      "Anvil websocket open\n",
      "Connected to \"Default environment (dev)\" as SERVER\n"
     ]
    }
   ],
   "source": [
    "import anvil.server\n",
    "\n",
    "anvil.server.connect(\"UDJFLQOOWINWQKDACJCJ3CGQ-E6OIFTIZ7EZI4R7K\")\n"
   ]
  },
  {
   "cell_type": "code",
   "execution_count": 3,
   "metadata": {},
   "outputs": [],
   "source": [
    "import anvil.media\n",
    "\n",
    "@anvil.server.callable\n",
    "def classify_image(file):\n",
    "    with anvil.media.TempFile(file) as filename:\n",
    "        recognize(filename)"
   ]
  },
  {
   "cell_type": "code",
   "execution_count": 4,
   "metadata": {},
   "outputs": [],
   "source": [
    "model=Sequential()"
   ]
  },
  {
   "cell_type": "code",
   "execution_count": 5,
   "metadata": {},
   "outputs": [],
   "source": [
    "model.add(Conv2D(32, (3, 3), input_shape = (64, 64, 3), activation = 'relu'))"
   ]
  },
  {
   "cell_type": "code",
   "execution_count": 6,
   "metadata": {},
   "outputs": [],
   "source": [
    "model.add(MaxPooling2D(pool_size = (2, 2)))"
   ]
  },
  {
   "cell_type": "code",
   "execution_count": 7,
   "metadata": {},
   "outputs": [],
   "source": [
    "model.add(Flatten())"
   ]
  },
  {
   "cell_type": "code",
   "execution_count": 8,
   "metadata": {},
   "outputs": [],
   "source": [
    "model.add(Dense(units = 128, activation = 'relu'))\n",
    "model.add(Dense(units = 10, activation = 'softmax'))\n"
   ]
  },
  {
   "cell_type": "code",
   "execution_count": 9,
   "metadata": {},
   "outputs": [],
   "source": [
    "model.compile(optimizer = 'adam', loss = 'categorical_crossentropy', metrics = ['accuracy'])\n"
   ]
  },
  {
   "cell_type": "code",
   "execution_count": 10,
   "metadata": {},
   "outputs": [],
   "source": [
    "from keras.preprocessing.image import ImageDataGenerator"
   ]
  },
  {
   "cell_type": "code",
   "execution_count": 11,
   "metadata": {},
   "outputs": [],
   "source": [
    "train_datagen= ImageDataGenerator(rescale = 1./255,\n",
    "                                   shear_range = 0.2,\n",
    "                                   zoom_range = 0.2,\n",
    "                                   horizontal_flip = True)"
   ]
  },
  {
   "cell_type": "code",
   "execution_count": 12,
   "metadata": {},
   "outputs": [],
   "source": [
    "test_datagen = ImageDataGenerator(rescale = 1./255)"
   ]
  },
  {
   "cell_type": "code",
   "execution_count": 13,
   "metadata": {
    "scrolled": true
   },
   "outputs": [
    {
     "name": "stdout",
     "output_type": "stream",
     "text": [
      "Found 17000 images belonging to 10 classes.\n"
     ]
    }
   ],
   "source": [
    "training_set =train_datagen.flow_from_directory('train',\n",
    "                                                 target_size = (64, 64),\n",
    "                                                 batch_size = 32,\n",
    "                                                 class_mode = 'categorical')"
   ]
  },
  {
   "cell_type": "code",
   "execution_count": 14,
   "metadata": {},
   "outputs": [
    {
     "name": "stdout",
     "output_type": "stream",
     "text": [
      "Found 3000 images belonging to 10 classes.\n"
     ]
    }
   ],
   "source": [
    "test_set = test_datagen.flow_from_directory('test',\n",
    "                                            target_size = (64, 64),\n",
    "                                            batch_size = 32,\n",
    "                                            class_mode = 'categorical')"
   ]
  },
  {
   "cell_type": "code",
   "execution_count": 15,
   "metadata": {
    "scrolled": true
   },
   "outputs": [
    {
     "name": "stdout",
     "output_type": "stream",
     "text": [
      "Epoch 1/32\n",
      "531/531 [==============================] - 100s 188ms/step - loss: 0.4091 - accuracy: 0.8647 - val_loss: 0.2214 - val_accuracy: 0.9254\n",
      "Epoch 2/32\n",
      "531/531 [==============================] - 92s 174ms/step - loss: 0.1657 - accuracy: 0.9463 - val_loss: 0.1385 - val_accuracy: 0.9540\n",
      "Epoch 3/32\n",
      "531/531 [==============================] - 92s 173ms/step - loss: 0.1198 - accuracy: 0.9611 - val_loss: 0.1401 - val_accuracy: 0.9560\n",
      "Epoch 4/32\n",
      "531/531 [==============================] - 69s 130ms/step - loss: 0.0975 - accuracy: 0.9674 - val_loss: 0.1186 - val_accuracy: 0.9637\n",
      "Epoch 5/32\n",
      "531/531 [==============================] - 55s 103ms/step - loss: 0.0831 - accuracy: 0.9719 - val_loss: 0.1083 - val_accuracy: 0.9674\n",
      "Epoch 6/32\n",
      "531/531 [==============================] - 55s 103ms/step - loss: 0.0716 - accuracy: 0.9760 - val_loss: 0.0936 - val_accuracy: 0.9711\n",
      "Epoch 7/32\n",
      "531/531 [==============================] - 55s 104ms/step - loss: 0.0679 - accuracy: 0.9777 - val_loss: 0.1271 - val_accuracy: 0.9553\n",
      "Epoch 8/32\n",
      "531/531 [==============================] - 55s 103ms/step - loss: 0.0633 - accuracy: 0.9796 - val_loss: 0.0938 - val_accuracy: 0.9684\n",
      "Epoch 9/32\n",
      "531/531 [==============================] - 55s 104ms/step - loss: 0.0551 - accuracy: 0.9820 - val_loss: 0.0765 - val_accuracy: 0.9731\n",
      "Epoch 10/32\n",
      "531/531 [==============================] - 55s 103ms/step - loss: 0.0470 - accuracy: 0.9847 - val_loss: 0.0778 - val_accuracy: 0.9765\n",
      "Epoch 11/32\n",
      "531/531 [==============================] - 55s 104ms/step - loss: 0.0486 - accuracy: 0.9839 - val_loss: 0.0833 - val_accuracy: 0.9741\n",
      "Epoch 12/32\n",
      "531/531 [==============================] - 55s 104ms/step - loss: 0.0406 - accuracy: 0.9865 - val_loss: 0.0783 - val_accuracy: 0.9778\n",
      "Epoch 13/32\n",
      "531/531 [==============================] - 55s 104ms/step - loss: 0.0482 - accuracy: 0.9839 - val_loss: 0.0944 - val_accuracy: 0.9701\n",
      "Epoch 14/32\n",
      "531/531 [==============================] - 54s 103ms/step - loss: 0.0389 - accuracy: 0.9868 - val_loss: 0.0683 - val_accuracy: 0.9812\n",
      "Epoch 15/32\n",
      "531/531 [==============================] - 55s 103ms/step - loss: 0.0339 - accuracy: 0.9897 - val_loss: 0.0735 - val_accuracy: 0.9772\n",
      "Epoch 16/32\n",
      "531/531 [==============================] - 55s 103ms/step - loss: 0.0354 - accuracy: 0.9884 - val_loss: 0.0726 - val_accuracy: 0.9815\n",
      "Epoch 17/32\n",
      "531/531 [==============================] - 55s 103ms/step - loss: 0.0359 - accuracy: 0.9882 - val_loss: 0.0605 - val_accuracy: 0.9819\n",
      "Epoch 18/32\n",
      "531/531 [==============================] - 55s 103ms/step - loss: 0.0302 - accuracy: 0.9895 - val_loss: 0.0655 - val_accuracy: 0.9815\n",
      "Epoch 19/32\n",
      "531/531 [==============================] - 59s 111ms/step - loss: 0.0318 - accuracy: 0.9896 - val_loss: 0.0677 - val_accuracy: 0.9802\n",
      "Epoch 20/32\n",
      "531/531 [==============================] - 62s 116ms/step - loss: 0.0337 - accuracy: 0.9902 - val_loss: 0.0662 - val_accuracy: 0.9819\n",
      "Epoch 21/32\n",
      "531/531 [==============================] - 55s 103ms/step - loss: 0.0232 - accuracy: 0.9921 - val_loss: 0.0755 - val_accuracy: 0.9808\n",
      "Epoch 22/32\n",
      "531/531 [==============================] - 58s 108ms/step - loss: 0.0275 - accuracy: 0.9911 - val_loss: 0.0665 - val_accuracy: 0.9805\n",
      "Epoch 23/32\n",
      "531/531 [==============================] - 60s 113ms/step - loss: 0.0216 - accuracy: 0.9922 - val_loss: 0.0974 - val_accuracy: 0.9765\n",
      "Epoch 24/32\n",
      "531/531 [==============================] - 59s 112ms/step - loss: 0.0268 - accuracy: 0.9910 - val_loss: 0.0835 - val_accuracy: 0.9788\n",
      "Epoch 25/32\n",
      "531/531 [==============================] - 58s 109ms/step - loss: 0.0210 - accuracy: 0.9936 - val_loss: 0.0705 - val_accuracy: 0.9825\n",
      "Epoch 26/32\n",
      "531/531 [==============================] - 60s 112ms/step - loss: 0.0245 - accuracy: 0.9923 - val_loss: 0.0664 - val_accuracy: 0.9835\n",
      "Epoch 27/32\n",
      "531/531 [==============================] - 62s 118ms/step - loss: 0.0225 - accuracy: 0.9925 - val_loss: 0.0622 - val_accuracy: 0.9835\n",
      "Epoch 28/32\n",
      "531/531 [==============================] - 61s 115ms/step - loss: 0.0217 - accuracy: 0.9926 - val_loss: 0.0726 - val_accuracy: 0.9825\n",
      "Epoch 29/32\n",
      "531/531 [==============================] - 57s 108ms/step - loss: 0.0180 - accuracy: 0.9946 - val_loss: 0.0791 - val_accuracy: 0.9829\n",
      "Epoch 30/32\n",
      "531/531 [==============================] - 55s 104ms/step - loss: 0.0170 - accuracy: 0.9942 - val_loss: 0.0731 - val_accuracy: 0.9839\n",
      "Epoch 31/32\n",
      "531/531 [==============================] - 66s 125ms/step - loss: 0.0219 - accuracy: 0.9926 - val_loss: 0.0780 - val_accuracy: 0.9822\n",
      "Epoch 32/32\n",
      "531/531 [==============================] - 67s 126ms/step - loss: 0.0202 - accuracy: 0.9927 - val_loss: 0.0665 - val_accuracy: 0.9829\n"
     ]
    }
   ],
   "source": [
    "history=model.fit(training_set,\n",
    "                         steps_per_epoch = int(17000/32),\n",
    "                         epochs = 32,\n",
    "                         validation_data = test_set,\n",
    "                         validation_steps = int(3000/32))"
   ]
  },
  {
   "cell_type": "code",
   "execution_count": 16,
   "metadata": {
    "scrolled": true
   },
   "outputs": [
    {
     "data": {
      "text/plain": [
       "{'digit_0': 0,\n",
       " 'digit_1': 1,\n",
       " 'digit_2': 2,\n",
       " 'digit_3': 3,\n",
       " 'digit_4': 4,\n",
       " 'digit_5': 5,\n",
       " 'digit_6': 6,\n",
       " 'digit_7': 7,\n",
       " 'digit_8': 8,\n",
       " 'digit_9': 9}"
      ]
     },
     "execution_count": 16,
     "metadata": {},
     "output_type": "execute_result"
    }
   ],
   "source": [
    "training_set.class_indices"
   ]
  },
  {
   "cell_type": "code",
   "execution_count": 17,
   "metadata": {},
   "outputs": [],
   "source": [
    "import numpy as np\n",
    "from keras.preprocessing import image"
   ]
  },
  {
   "cell_type": "code",
   "execution_count": 18,
   "metadata": {},
   "outputs": [
    {
     "data": {
      "text/plain": [
       "array([[0., 0., 0., 0., 0., 0., 0., 0., 0., 1.]], dtype=float32)"
      ]
     },
     "execution_count": 18,
     "metadata": {},
     "output_type": "execute_result"
    }
   ],
   "source": [
    "individual_image=image.load_img('second.png', target_size = (64, 64))\n",
    "individual_image = image.img_to_array(individual_image)\n",
    "individual_image = np.expand_dims(individual_image, axis = 0)\n",
    "result = model.predict(individual_image)\n",
    "result"
   ]
  },
  {
   "cell_type": "code",
   "execution_count": 19,
   "metadata": {},
   "outputs": [
    {
     "name": "stdout",
     "output_type": "stream",
     "text": [
      "9\n"
     ]
    }
   ],
   "source": [
    "b=result\n",
    "for i in range(0,10):\n",
    "    \n",
    "    if (b[0][i]==1.):\n",
    "        print(i)"
   ]
  },
  {
   "cell_type": "code",
   "execution_count": 20,
   "metadata": {},
   "outputs": [
    {
     "data": {
      "text/plain": [
       "array([[1., 0., 0., 0., 0., 0., 0., 0., 0., 0.]], dtype=float32)"
      ]
     },
     "execution_count": 20,
     "metadata": {},
     "output_type": "execute_result"
    }
   ],
   "source": [
    "individual_image=image.load_img('first.png', target_size = (64, 64))\n",
    "individual_image = image.img_to_array(individual_image)\n",
    "individual_image = np.expand_dims(individual_image, axis = 0)\n",
    "result = model.predict(individual_image)\n",
    "result"
   ]
  },
  {
   "cell_type": "code",
   "execution_count": 21,
   "metadata": {},
   "outputs": [],
   "source": [
    "def predictNum(img):\n",
    "    individual_image=image.load_img(img, target_size = (64, 64))\n",
    "    individual_image = image.img_to_array(individual_image)\n",
    "    individual_image = np.expand_dims(individual_image, axis = 0)\n",
    "    result = model.predict(individual_image)\n",
    "    b=result\n",
    "    for i in range(0,10):\n",
    "        if (b[0][i]==1.):\n",
    "            c=i\n",
    "            print(i)\n",
    "    return c"
   ]
  },
  {
   "cell_type": "code",
   "execution_count": 42,
   "metadata": {},
   "outputs": [],
   "source": [
    "def decimalToBinary(num):\n",
    "    array = []\n",
    "\n",
    "    #makes the binary value\n",
    "    while(num > 0):\n",
    "        sol1 = num / 2\n",
    "\n",
    "        check = sol1 - int(sol1)\n",
    "\n",
    "        if(check > 0):\n",
    "            array.append(\"1\")\n",
    "            num = sol1 - 0.5\n",
    "        else:\n",
    "            array.append(\"0\")\n",
    "            num = sol1\n",
    "            \n",
    "    #makes sure the binary value is a minimum of 4 bits long\n",
    "    while(len(array) < 4):\n",
    "        array.append(\"0\")\n",
    "\n",
    "    #reverses the array\n",
    "    array = array[::-1]\n",
    "\n",
    "    #joins the array into a string, return the string\n",
    "    string = ''.join(array)\n",
    "\n",
    "    return string\n",
    "def recognize(img):\n",
    "    print(\"The number is:\")\n",
    "    num = predictNum(img)\n",
    "    print(\"The binary of the number is:\")\n",
    "    decimalToBinary(num)\n",
    "    print(\"\\nThe octal conversion of the number is:\")\n",
    "    def decimalToOctal(num):\n",
    "        if num > 1:\n",
    "            decimalToBinary(num // 8)\n",
    "        print(num % 8, end=' ')\n",
    "    decimalToOctal(num)\n",
    "    print(\"\\nThe hexadecimal conversion of the number is:\")\n",
    "    def decimalToHexadecimal(num):\n",
    "        if num > 1:\n",
    "            decimalToBinary(num // 16)\n",
    "        print(num % 16, end=' ')\n",
    "    decimalToHexadecimal(num)\n",
    "    \n",
    "\n",
    "\n"
   ]
  },
  {
   "cell_type": "code",
   "execution_count": 43,
   "metadata": {},
   "outputs": [
    {
     "name": "stdout",
     "output_type": "stream",
     "text": [
      "The number is:\n",
      "3\n",
      "The binary of the number is:\n",
      "\n",
      "The octal conversion of the number is:\n",
      "3 \n",
      "The hexadecimal conversion of the number is:\n",
      "3 "
     ]
    }
   ],
   "source": [
    "recognize('image.jpg')"
   ]
  },
  {
   "cell_type": "code",
   "execution_count": 44,
   "metadata": {},
   "outputs": [
    {
     "name": "stdout",
     "output_type": "stream",
     "text": [
      "The number is:\n",
      "0\n",
      "The binary of the number is:\n",
      "\n",
      "The octal conversion of the number is:\n",
      "0 \n",
      "The hexadecimal conversion of the number is:\n",
      "0 "
     ]
    }
   ],
   "source": [
    "recognize('first.png')"
   ]
  },
  {
   "cell_type": "code",
   "execution_count": 45,
   "metadata": {},
   "outputs": [
    {
     "name": "stdout",
     "output_type": "stream",
     "text": [
      "The number is:\n",
      "9\n",
      "The binary of the number is:\n",
      "\n",
      "The octal conversion of the number is:\n",
      "1 \n",
      "The hexadecimal conversion of the number is:\n",
      "9 "
     ]
    }
   ],
   "source": [
    "recognize('second.png')"
   ]
  },
  {
   "cell_type": "code",
   "execution_count": 46,
   "metadata": {},
   "outputs": [
    {
     "name": "stdout",
     "output_type": "stream",
     "text": [
      "The number is:\n",
      "7\n",
      "The binary of the number is:\n",
      "\n",
      "The octal conversion of the number is:\n",
      "7 \n",
      "The hexadecimal conversion of the number is:\n",
      "7 "
     ]
    }
   ],
   "source": [
    "recognize('seven.png')"
   ]
  },
  {
   "cell_type": "code",
   "execution_count": 47,
   "metadata": {},
   "outputs": [],
   "source": [
    "import anvil.server\n",
    "\n",
    "anvil.server.connect(\"UDJFLQOOWINWQKDACJCJ3CGQ-E6OIFTIZ7EZI4R7K\")\n"
   ]
  },
  {
   "cell_type": "code",
   "execution_count": 48,
   "metadata": {},
   "outputs": [],
   "source": [
    "import anvil.media\n",
    "\n",
    "@anvil.server.callable\n",
    "def classify_image(file):\n",
    "    with anvil.media.TempFile(file) as filename:\n",
    "        recognize(filename)\n",
    "        c=predictNum(filename)\n",
    "        return (c,decimalToBinary(c))"
   ]
  },
  {
   "cell_type": "code",
   "execution_count": 49,
   "metadata": {},
   "outputs": [
    {
     "name": "stdout",
     "output_type": "stream",
     "text": [
      "hi\n",
      "The number is:\n",
      "7\n",
      "The binary of the number is:\n",
      "\n",
      "The octal conversion of the number is:\n",
      "7 \n",
      "The hexadecimal conversion of the number is:\n",
      "7 7\n",
      "The number is:\n",
      "7\n",
      "The binary of the number is:\n",
      "\n",
      "The octal conversion of the number is:\n",
      "7 \n",
      "The hexadecimal conversion of the number is:\n",
      "7 7\n",
      "The number is:\n",
      "7\n",
      "The binary of the number is:\n",
      "\n",
      "The octal conversion of the number is:\n",
      "7 \n",
      "The hexadecimal conversion of the number is:\n",
      "7 7\n",
      "The number is:\n",
      "7\n",
      "The binary of the number is:\n",
      "\n",
      "The octal conversion of the number is:\n",
      "7 \n",
      "The hexadecimal conversion of the number is:\n",
      "7 7\n",
      "The number is:\n",
      "0\n",
      "The binary of the number is:\n",
      "\n",
      "The octal conversion of the number is:\n",
      "0 \n",
      "The hexadecimal conversion of the number is:\n",
      "0 0\n",
      "The number is:\n",
      "9\n",
      "The binary of the number is:\n",
      "\n",
      "The octal conversion of the number is:\n",
      "1 \n",
      "The hexadecimal conversion of the number is:\n",
      "9 9\n",
      "The number is:\n",
      "3\n",
      "The binary of the number is:\n",
      "\n",
      "The octal conversion of the number is:\n",
      "3 \n",
      "The hexadecimal conversion of the number is:\n",
      "3 3\n"
     ]
    }
   ],
   "source": [
    "print(\"hi\")"
   ]
  },
  {
   "cell_type": "code",
   "execution_count": null,
   "metadata": {},
   "outputs": [],
   "source": []
  }
 ],
 "metadata": {
  "kernelspec": {
   "display_name": "Python 3",
   "language": "python",
   "name": "python3"
  },
  "language_info": {
   "codemirror_mode": {
    "name": "ipython",
    "version": 3
   },
   "file_extension": ".py",
   "mimetype": "text/x-python",
   "name": "python",
   "nbconvert_exporter": "python",
   "pygments_lexer": "ipython3",
   "version": "3.8.5"
  }
 },
 "nbformat": 4,
 "nbformat_minor": 4
}
